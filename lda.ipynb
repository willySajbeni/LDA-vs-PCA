{
 "cells": [
  {
   "attachments": {},
   "cell_type": "markdown",
   "metadata": {},
   "source": [
    "## imports"
   ]
  },
  {
   "cell_type": "code",
   "execution_count": 1,
   "metadata": {},
   "outputs": [],
   "source": [
    "import pandas as pd\n",
    "import numpy as np\n",
    "from sklearn.model_selection import train_test_split\n",
    "from sklearn.decomposition import PCA\n",
    "from sklearn.discriminant_analysis import LinearDiscriminantAnalysis as LDA\n",
    "from sklearn.preprocessing import StandardScaler\n",
    "from sklearn.svm import SVC\n",
    "from sklearn.metrics import confusion_matrix, accuracy_score\n",
    "import matplotlib.pyplot as plt\n",
    "plt.style.use('dark_background')\n",
    "import time"
   ]
  },
  {
   "attachments": {},
   "cell_type": "markdown",
   "metadata": {},
   "source": [
    "load the dataset"
   ]
  },
  {
   "cell_type": "code",
   "execution_count": 2,
   "metadata": {},
   "outputs": [
    {
     "data": {
      "text/html": [
       "<div>\n",
       "<style scoped>\n",
       "    .dataframe tbody tr th:only-of-type {\n",
       "        vertical-align: middle;\n",
       "    }\n",
       "\n",
       "    .dataframe tbody tr th {\n",
       "        vertical-align: top;\n",
       "    }\n",
       "\n",
       "    .dataframe thead th {\n",
       "        text-align: right;\n",
       "    }\n",
       "</style>\n",
       "<table border=\"1\" class=\"dataframe\">\n",
       "  <thead>\n",
       "    <tr style=\"text-align: right;\">\n",
       "      <th></th>\n",
       "      <th>fixed acidity</th>\n",
       "      <th>volatile acidity</th>\n",
       "      <th>citric acid</th>\n",
       "      <th>residual sugar</th>\n",
       "      <th>chlorides</th>\n",
       "      <th>free sulfur dioxide</th>\n",
       "      <th>total sulfur dioxide</th>\n",
       "      <th>density</th>\n",
       "      <th>pH</th>\n",
       "      <th>sulphates</th>\n",
       "      <th>alcohol</th>\n",
       "      <th>quality</th>\n",
       "    </tr>\n",
       "  </thead>\n",
       "  <tbody>\n",
       "    <tr>\n",
       "      <th>0</th>\n",
       "      <td>7.4</td>\n",
       "      <td>0.700</td>\n",
       "      <td>0.00</td>\n",
       "      <td>1.9</td>\n",
       "      <td>0.076</td>\n",
       "      <td>11.0</td>\n",
       "      <td>34.0</td>\n",
       "      <td>0.99780</td>\n",
       "      <td>3.51</td>\n",
       "      <td>0.56</td>\n",
       "      <td>9.4</td>\n",
       "      <td>5</td>\n",
       "    </tr>\n",
       "    <tr>\n",
       "      <th>1</th>\n",
       "      <td>7.8</td>\n",
       "      <td>0.880</td>\n",
       "      <td>0.00</td>\n",
       "      <td>2.6</td>\n",
       "      <td>0.098</td>\n",
       "      <td>25.0</td>\n",
       "      <td>67.0</td>\n",
       "      <td>0.99680</td>\n",
       "      <td>3.20</td>\n",
       "      <td>0.68</td>\n",
       "      <td>9.8</td>\n",
       "      <td>5</td>\n",
       "    </tr>\n",
       "    <tr>\n",
       "      <th>2</th>\n",
       "      <td>7.8</td>\n",
       "      <td>0.760</td>\n",
       "      <td>0.04</td>\n",
       "      <td>2.3</td>\n",
       "      <td>0.092</td>\n",
       "      <td>15.0</td>\n",
       "      <td>54.0</td>\n",
       "      <td>0.99700</td>\n",
       "      <td>3.26</td>\n",
       "      <td>0.65</td>\n",
       "      <td>9.8</td>\n",
       "      <td>5</td>\n",
       "    </tr>\n",
       "    <tr>\n",
       "      <th>3</th>\n",
       "      <td>11.2</td>\n",
       "      <td>0.280</td>\n",
       "      <td>0.56</td>\n",
       "      <td>1.9</td>\n",
       "      <td>0.075</td>\n",
       "      <td>17.0</td>\n",
       "      <td>60.0</td>\n",
       "      <td>0.99800</td>\n",
       "      <td>3.16</td>\n",
       "      <td>0.58</td>\n",
       "      <td>9.8</td>\n",
       "      <td>6</td>\n",
       "    </tr>\n",
       "    <tr>\n",
       "      <th>4</th>\n",
       "      <td>7.4</td>\n",
       "      <td>0.700</td>\n",
       "      <td>0.00</td>\n",
       "      <td>1.9</td>\n",
       "      <td>0.076</td>\n",
       "      <td>11.0</td>\n",
       "      <td>34.0</td>\n",
       "      <td>0.99780</td>\n",
       "      <td>3.51</td>\n",
       "      <td>0.56</td>\n",
       "      <td>9.4</td>\n",
       "      <td>5</td>\n",
       "    </tr>\n",
       "    <tr>\n",
       "      <th>...</th>\n",
       "      <td>...</td>\n",
       "      <td>...</td>\n",
       "      <td>...</td>\n",
       "      <td>...</td>\n",
       "      <td>...</td>\n",
       "      <td>...</td>\n",
       "      <td>...</td>\n",
       "      <td>...</td>\n",
       "      <td>...</td>\n",
       "      <td>...</td>\n",
       "      <td>...</td>\n",
       "      <td>...</td>\n",
       "    </tr>\n",
       "    <tr>\n",
       "      <th>1594</th>\n",
       "      <td>6.2</td>\n",
       "      <td>0.600</td>\n",
       "      <td>0.08</td>\n",
       "      <td>2.0</td>\n",
       "      <td>0.090</td>\n",
       "      <td>32.0</td>\n",
       "      <td>44.0</td>\n",
       "      <td>0.99490</td>\n",
       "      <td>3.45</td>\n",
       "      <td>0.58</td>\n",
       "      <td>10.5</td>\n",
       "      <td>5</td>\n",
       "    </tr>\n",
       "    <tr>\n",
       "      <th>1595</th>\n",
       "      <td>5.9</td>\n",
       "      <td>0.550</td>\n",
       "      <td>0.10</td>\n",
       "      <td>2.2</td>\n",
       "      <td>0.062</td>\n",
       "      <td>39.0</td>\n",
       "      <td>51.0</td>\n",
       "      <td>0.99512</td>\n",
       "      <td>3.52</td>\n",
       "      <td>0.76</td>\n",
       "      <td>11.2</td>\n",
       "      <td>6</td>\n",
       "    </tr>\n",
       "    <tr>\n",
       "      <th>1596</th>\n",
       "      <td>6.3</td>\n",
       "      <td>0.510</td>\n",
       "      <td>0.13</td>\n",
       "      <td>2.3</td>\n",
       "      <td>0.076</td>\n",
       "      <td>29.0</td>\n",
       "      <td>40.0</td>\n",
       "      <td>0.99574</td>\n",
       "      <td>3.42</td>\n",
       "      <td>0.75</td>\n",
       "      <td>11.0</td>\n",
       "      <td>6</td>\n",
       "    </tr>\n",
       "    <tr>\n",
       "      <th>1597</th>\n",
       "      <td>5.9</td>\n",
       "      <td>0.645</td>\n",
       "      <td>0.12</td>\n",
       "      <td>2.0</td>\n",
       "      <td>0.075</td>\n",
       "      <td>32.0</td>\n",
       "      <td>44.0</td>\n",
       "      <td>0.99547</td>\n",
       "      <td>3.57</td>\n",
       "      <td>0.71</td>\n",
       "      <td>10.2</td>\n",
       "      <td>5</td>\n",
       "    </tr>\n",
       "    <tr>\n",
       "      <th>1598</th>\n",
       "      <td>6.0</td>\n",
       "      <td>0.310</td>\n",
       "      <td>0.47</td>\n",
       "      <td>3.6</td>\n",
       "      <td>0.067</td>\n",
       "      <td>18.0</td>\n",
       "      <td>42.0</td>\n",
       "      <td>0.99549</td>\n",
       "      <td>3.39</td>\n",
       "      <td>0.66</td>\n",
       "      <td>11.0</td>\n",
       "      <td>6</td>\n",
       "    </tr>\n",
       "  </tbody>\n",
       "</table>\n",
       "<p>1599 rows × 12 columns</p>\n",
       "</div>"
      ],
      "text/plain": [
       "      fixed acidity  volatile acidity  citric acid  residual sugar  chlorides  \\\n",
       "0               7.4             0.700         0.00             1.9      0.076   \n",
       "1               7.8             0.880         0.00             2.6      0.098   \n",
       "2               7.8             0.760         0.04             2.3      0.092   \n",
       "3              11.2             0.280         0.56             1.9      0.075   \n",
       "4               7.4             0.700         0.00             1.9      0.076   \n",
       "...             ...               ...          ...             ...        ...   \n",
       "1594            6.2             0.600         0.08             2.0      0.090   \n",
       "1595            5.9             0.550         0.10             2.2      0.062   \n",
       "1596            6.3             0.510         0.13             2.3      0.076   \n",
       "1597            5.9             0.645         0.12             2.0      0.075   \n",
       "1598            6.0             0.310         0.47             3.6      0.067   \n",
       "\n",
       "      free sulfur dioxide  total sulfur dioxide  density    pH  sulphates  \\\n",
       "0                    11.0                  34.0  0.99780  3.51       0.56   \n",
       "1                    25.0                  67.0  0.99680  3.20       0.68   \n",
       "2                    15.0                  54.0  0.99700  3.26       0.65   \n",
       "3                    17.0                  60.0  0.99800  3.16       0.58   \n",
       "4                    11.0                  34.0  0.99780  3.51       0.56   \n",
       "...                   ...                   ...      ...   ...        ...   \n",
       "1594                 32.0                  44.0  0.99490  3.45       0.58   \n",
       "1595                 39.0                  51.0  0.99512  3.52       0.76   \n",
       "1596                 29.0                  40.0  0.99574  3.42       0.75   \n",
       "1597                 32.0                  44.0  0.99547  3.57       0.71   \n",
       "1598                 18.0                  42.0  0.99549  3.39       0.66   \n",
       "\n",
       "      alcohol  quality  \n",
       "0         9.4        5  \n",
       "1         9.8        5  \n",
       "2         9.8        5  \n",
       "3         9.8        6  \n",
       "4         9.4        5  \n",
       "...       ...      ...  \n",
       "1594     10.5        5  \n",
       "1595     11.2        6  \n",
       "1596     11.0        6  \n",
       "1597     10.2        5  \n",
       "1598     11.0        6  \n",
       "\n",
       "[1599 rows x 12 columns]"
      ]
     },
     "execution_count": 2,
     "metadata": {},
     "output_type": "execute_result"
    }
   ],
   "source": [
    "data = pd.read_csv('winequality.csv')\n",
    "df = data.copy()\n",
    "df"
   ]
  },
  {
   "cell_type": "code",
   "execution_count": 3,
   "metadata": {},
   "outputs": [
    {
     "data": {
      "text/plain": [
       "fixed acidity           0\n",
       "volatile acidity        0\n",
       "citric acid             0\n",
       "residual sugar          0\n",
       "chlorides               0\n",
       "free sulfur dioxide     0\n",
       "total sulfur dioxide    0\n",
       "density                 0\n",
       "pH                      0\n",
       "sulphates               0\n",
       "alcohol                 0\n",
       "quality                 0\n",
       "dtype: int64"
      ]
     },
     "execution_count": 3,
     "metadata": {},
     "output_type": "execute_result"
    }
   ],
   "source": [
    "df.isnull().sum()"
   ]
  },
  {
   "cell_type": "code",
   "execution_count": 4,
   "metadata": {},
   "outputs": [
    {
     "data": {
      "text/plain": [
       "array([5, 6, 7, 4, 8, 3])"
      ]
     },
     "execution_count": 4,
     "metadata": {},
     "output_type": "execute_result"
    }
   ],
   "source": [
    "df['quality'].unique()"
   ]
  },
  {
   "cell_type": "code",
   "execution_count": 5,
   "metadata": {},
   "outputs": [],
   "source": [
    "scaler = StandardScaler()"
   ]
  },
  {
   "cell_type": "code",
   "execution_count": 6,
   "metadata": {},
   "outputs": [],
   "source": [
    "X = df.iloc[:,0:11].values\n",
    "y = df.iloc[:,11].values\n",
    "\n",
    "X_std = scaler.fit_transform(X)"
   ]
  },
  {
   "cell_type": "code",
   "execution_count": 7,
   "metadata": {},
   "outputs": [
    {
     "name": "stdout",
     "output_type": "stream",
     "text": [
      "[5 5 5 ... 6 5 6]\n"
     ]
    }
   ],
   "source": [
    "print(y)"
   ]
  },
  {
   "attachments": {},
   "cell_type": "markdown",
   "metadata": {},
   "source": [
    "calculate the class means - the means for each separate quality grade of wine"
   ]
  },
  {
   "cell_type": "code",
   "execution_count": 8,
   "metadata": {},
   "outputs": [
    {
     "name": "stdout",
     "output_type": "stream",
     "text": [
      "Mean vector quality 3 :[ 0.   2.  -0.5  0.1  0.7 -0.5 -0.7  0.4  0.6 -0.5 -0.4]\n",
      "\n",
      "Mean vector quality 4 :[-0.3  0.9 -0.5  0.1  0.1 -0.3 -0.3 -0.1  0.5 -0.4 -0.1]\n",
      "\n",
      "Mean vector quality 5 :[-0.1  0.3 -0.1 -0.   0.1  0.1  0.3  0.2 -0.  -0.2 -0.5]\n",
      "\n",
      "Mean vector quality 6 :[ 0.  -0.2  0.  -0.  -0.1 -0.  -0.2 -0.1  0.   0.1  0.2]\n",
      "\n",
      "Mean vector quality 7 :[ 0.3 -0.7  0.5  0.1 -0.2 -0.2 -0.3 -0.3 -0.1  0.5  1. ]\n",
      "\n",
      "Mean vector quality 8 :[ 0.1 -0.6  0.6  0.  -0.4 -0.2 -0.4 -0.8 -0.3  0.6  1.6]\n",
      "\n"
     ]
    }
   ],
   "source": [
    "np.set_printoptions(precision=1)\n",
    "\n",
    "mean_vectors=[]\n",
    "for gr in range(3,9):\n",
    "    mean_vectors.append(np.mean(X_std[y==gr],axis=0))\n",
    "    print('Mean vector quality %s :%s\\n' %(gr,mean_vectors[gr-3]))"
   ]
  },
  {
   "attachments": {},
   "cell_type": "markdown",
   "metadata": {},
   "source": [
    "### Calculate the within - and between-class scatter matrices"
   ]
  },
  {
   "cell_type": "code",
   "execution_count": 9,
   "metadata": {},
   "outputs": [
    {
     "name": "stdout",
     "output_type": "stream",
     "text": [
      "Within class-scatter matrix:\n",
      " [[ 1.6e+03 -3.3e+02  1.0e+03  1.8e+02  1.7e+02 -2.3e+02 -1.4e+02  1.1e+03\n",
      "  -1.1e+03  2.4e+02 -2.0e+02]\n",
      " [-3.3e+02  1.3e+03 -7.4e+02  1.1e+01  1.7e+01 -3.9e+01  2.3e+01 -6.5e+01\n",
      "   3.3e+02 -2.6e+02 -4.3e+01]\n",
      " [ 1.0e+03 -7.4e+02  1.5e+03  2.2e+02  3.7e+02 -7.7e+01  1.2e+02  6.5e+02\n",
      "  -8.4e+02  4.1e+02 -7.7e-01]\n",
      " [ 1.8e+02  1.1e+01  2.2e+02  1.6e+03  9.3e+01  3.1e+02  3.3e+02  5.8e+02\n",
      "  -1.4e+02  1.9e-01  4.6e+01]\n",
      " [ 1.7e+02  1.7e+01  3.7e+02  9.3e+01  1.6e+03 -4.9e+00  3.4e+01  2.8e+02\n",
      "  -4.3e+02  6.5e+02 -2.5e+02]\n",
      " [-2.3e+02 -3.9e+01 -7.7e+01  3.1e+02 -4.9e+00  1.6e+03  1.0e+03 -6.5e+01\n",
      "   1.2e+02  1.1e+02 -3.7e+01]\n",
      " [-1.4e+02  2.3e+01  1.2e+02  3.3e+02  3.4e+01  1.0e+03  1.5e+03  3.8e+01\n",
      "  -9.3e+01  1.5e+02 -1.3e+02]\n",
      " [ 1.1e+03 -6.5e+01  6.5e+02  5.8e+02  2.8e+02 -6.5e+01  3.8e+01  1.5e+03\n",
      "  -5.5e+02  3.1e+02 -6.3e+02]\n",
      " [-1.1e+03  3.3e+02 -8.4e+02 -1.4e+02 -4.3e+02  1.2e+02 -9.3e+01 -5.5e+02\n",
      "   1.6e+03 -3.0e+02  3.5e+02]\n",
      " [ 2.4e+02 -2.6e+02  4.1e+02  1.9e-01  6.5e+02  1.1e+02  1.5e+02  3.1e+02\n",
      "  -3.0e+02  1.5e+03 -5.5e+01]\n",
      " [-2.0e+02 -4.3e+01 -7.7e-01  4.6e+01 -2.5e+02 -3.7e+01 -1.3e+02 -6.3e+02\n",
      "   3.5e+02 -5.5e+01  1.2e+03]]\n"
     ]
    }
   ],
   "source": [
    "S_w = np.zeros((11,11))\n",
    "\n",
    "for gr, mv in zip(range(3,9), mean_vectors):\n",
    "    class_sc_mat = np.zeros((11,11))\n",
    "\n",
    "    for row in X_std[y==gr]:\n",
    "        row,mv = row.reshape(11,1), mv.reshape(11,1)\n",
    "        class_sc_mat+=(row-mv).dot((row-mv).T)\n",
    "\n",
    "    S_w+=class_sc_mat\n",
    "print('Within class-scatter matrix:\\n', S_w)        "
   ]
  },
  {
   "attachments": {},
   "cell_type": "markdown",
   "metadata": {},
   "source": [
    "### Calculate the between class scatter matrix"
   ]
  },
  {
   "cell_type": "code",
   "execution_count": 10,
   "metadata": {},
   "outputs": [
    {
     "name": "stdout",
     "output_type": "stream",
     "text": [
      "Bettween class scatter matrix:\n",
      " [[  30.9  -78.1   52.     6.4  -23.8  -12.6  -38.   -33.7  -13.6   52.6\n",
      "    99.5]\n",
      " [ -78.1  256.6 -142.7   -7.9   81.    22.    99.4  100.7   42.5 -154.7\n",
      "  -280.3]\n",
      " [  52.  -142.7   93.1   11.   -45.9  -20.2  -60.6  -63.1  -27.9   93.6\n",
      "   176.5]\n",
      " [   6.4   -7.9   11.     5.3   -4.3   -7.    -8.1   -8.5   -1.5    8.7\n",
      "    21.7]\n",
      " [ -23.8   81.   -45.9   -4.3   29.7   13.8   42.    40.8    9.4  -52.6\n",
      "  -104.3]\n",
      " [ -12.6   22.   -20.2   -7.    13.8   23.5   46.4   30.1   -8.4  -27.7\n",
      "   -73.7]\n",
      " [ -38.    99.4  -60.6   -8.1   42.    46.4  118.4   75.6  -13.2  -85.8\n",
      "  -196.9]\n",
      " [ -33.7  100.7  -63.1   -8.5   40.8   30.1   75.6   64.5    5.5  -75.4\n",
      "  -162. ]\n",
      " [ -13.6   42.5  -27.9   -1.5    9.4   -8.4  -13.2    5.5   21.5  -19.\n",
      "   -20.8]\n",
      " [  52.6 -154.7   93.6    8.7  -52.6  -27.7  -85.8  -75.4  -19.   104.5\n",
      "   204.9]\n",
      " [  99.5 -280.3  176.5   21.7 -104.3  -73.7 -196.9 -162.   -20.8  204.9\n",
      "   426.4]]\n"
     ]
    }
   ],
   "source": [
    "overall_mean = np.mean(X_std, axis=0)\n",
    "c=0\n",
    "S_b=np.zeros((11,11))\n",
    "for i, mean_vec in enumerate(mean_vectors):\n",
    "    n=X_std[y==i+3,:].shape[0]\n",
    "    c+=1\n",
    "    mean_vec=mean_vec.reshape(11,1)\n",
    "    overall_mean=overall_mean.reshape(11,1)\n",
    "    S_b+=n*(mean_vec-overall_mean).dot((mean_vec-overall_mean).T)\n",
    "\n",
    "print('Bettween class scatter matrix:\\n', S_b)    "
   ]
  },
  {
   "attachments": {},
   "cell_type": "markdown",
   "metadata": {},
   "source": [
    "### Find the eigenvectors and eigenvalues pairs"
   ]
  },
  {
   "cell_type": "code",
   "execution_count": 11,
   "metadata": {},
   "outputs": [],
   "source": [
    "eigs_vals, eigs_vecs = np.linalg.eig(np.linalg.inv(S_w).dot(S_b))"
   ]
  },
  {
   "cell_type": "code",
   "execution_count": 12,
   "metadata": {},
   "outputs": [
    {
     "data": {
      "text/plain": [
       "array([ 6.3e-01+0.0e+00j,  7.6e-02+0.0e+00j,  2.5e-02+0.0e+00j,\n",
       "        6.4e-03+0.0e+00j,  4.2e-03+0.0e+00j,  1.2e-16+0.0e+00j,\n",
       "        5.6e-17+0.0e+00j, -3.8e-17+2.7e-17j, -3.8e-17-2.7e-17j,\n",
       "       -1.6e-17+0.0e+00j,  1.1e-17+0.0e+00j])"
      ]
     },
     "execution_count": 12,
     "metadata": {},
     "output_type": "execute_result"
    }
   ],
   "source": [
    "eigs_vals"
   ]
  },
  {
   "cell_type": "code",
   "execution_count": 13,
   "metadata": {},
   "outputs": [
    {
     "data": {
      "text/plain": [
       "array([[ 0.2+0.j , -0.5+0.j ,  0.1+0.j ,  0.7+0.j , -0.2+0.j ,  0. +0.j ,\n",
       "         0.5+0.j ,  0.3+0.1j,  0.3-0.1j, -0.3+0.j , -0.6+0.j ],\n",
       "       [-0.4+0.j , -0.5+0.j ,  0.3+0.j , -0.2+0.j ,  0.3+0.j ,  0.1+0.j ,\n",
       "        -0.2+0.j ,  0.1-0.1j,  0.1+0.1j, -0. +0.j ,  0. +0.j ],\n",
       "       [-0. +0.j , -0.2+0.j ,  0.4+0.j , -0.1+0.j ,  0.3+0.j ,  0.3+0.j ,\n",
       "        -0.5+0.j , -0.4-0.2j, -0.4+0.2j,  0.2+0.j ,  0.3+0.j ],\n",
       "       [ 0.1+0.j , -0.2+0.j ,  0.2+0.j ,  0.2+0.j , -0.4+0.j ,  0.1+0.j ,\n",
       "        -0.2+0.j ,  0. -0.1j,  0. +0.1j, -0.2+0.j ,  0.4+0.j ],\n",
       "       [-0.2+0.j , -0.1+0.j , -0.1+0.j ,  0.1+0.j ,  0.2+0.j ,  0.1+0.j ,\n",
       "         0.2+0.j , -0.4+0.1j, -0.4-0.1j, -0.3+0.j ,  0.2+0.j ],\n",
       "       [ 0.1+0.j ,  0. +0.j , -0.4+0.j , -0.1+0.j ,  0.4+0.j ,  0.3+0.j ,\n",
       "        -0.3+0.j , -0.2-0.3j, -0.2+0.3j, -0.6+0.j ,  0.4+0.j ],\n",
       "       [-0.3+0.j ,  0.3+0.j ,  0.5+0.j ,  0.1+0.j , -0.2+0.j , -0.1+0.j ,\n",
       "         0.2+0.j , -0.2+0.2j, -0.2-0.2j, -0.3+0.j , -0.2+0.j ],\n",
       "       [-0.2+0.j ,  0.5+0.j , -0.5+0.j , -0.4+0.j ,  0.5+0.j , -0.6+0.j ,\n",
       "        -0.1+0.j ,  0.1+0.j ,  0.1-0.j ,  0.3+0.j ,  0.1+0.j ],\n",
       "       [-0. +0.j , -0.4+0.j , -0.1+0.j ,  0.4+0.j , -0.2+0.j ,  0.4+0.j ,\n",
       "        -0.2+0.j , -0.5+0.j , -0.5-0.j , -0.4+0.j ,  0.1+0.j ],\n",
       "       [ 0.4+0.j , -0.1+0.j ,  0.1+0.j , -0. +0.j , -0.1+0.j ,  0.3+0.j ,\n",
       "        -0.5+0.j ,  0.1+0.2j,  0.1-0.2j, -0. +0.j ,  0.3+0.j ],\n",
       "       [ 0.7+0.j ,  0.1+0.j , -0.1+0.j , -0.3+0.j ,  0.4+0.j , -0.4+0.j ,\n",
       "         0.2+0.j , -0.2+0.j , -0.2-0.j , -0.2+0.j , -0. +0.j ]])"
      ]
     },
     "execution_count": 13,
     "metadata": {},
     "output_type": "execute_result"
    }
   ],
   "source": [
    "eigs_vecs"
   ]
  },
  {
   "cell_type": "code",
   "execution_count": 14,
   "metadata": {},
   "outputs": [
    {
     "name": "stdout",
     "output_type": "stream",
     "text": [
      "\n",
      "Eigenvector 1:\n",
      "[[ 0.2]\n",
      " [-0.4]\n",
      " [-0. ]\n",
      " [ 0.1]\n",
      " [-0.2]\n",
      " [ 0.1]\n",
      " [-0.3]\n",
      " [-0.2]\n",
      " [-0. ]\n",
      " [ 0.4]\n",
      " [ 0.7]]\n",
      "\n",
      "Eigenvalue 1:\n",
      "6.32e-01\n",
      "\n",
      "Eigenvector 2:\n",
      "[[-0.5]\n",
      " [-0.5]\n",
      " [-0.2]\n",
      " [-0.2]\n",
      " [-0.1]\n",
      " [ 0. ]\n",
      " [ 0.3]\n",
      " [ 0.5]\n",
      " [-0.4]\n",
      " [-0.1]\n",
      " [ 0.1]]\n",
      "\n",
      "Eigenvalue 2:\n",
      "7.64e-02\n",
      "\n",
      "Eigenvector 3:\n",
      "[[ 0.1]\n",
      " [ 0.3]\n",
      " [ 0.4]\n",
      " [ 0.2]\n",
      " [-0.1]\n",
      " [-0.4]\n",
      " [ 0.5]\n",
      " [-0.5]\n",
      " [-0.1]\n",
      " [ 0.1]\n",
      " [-0.1]]\n",
      "\n",
      "Eigenvalue 3:\n",
      "2.48e-02\n",
      "\n",
      "Eigenvector 4:\n",
      "[[ 0.7]\n",
      " [-0.2]\n",
      " [-0.1]\n",
      " [ 0.2]\n",
      " [ 0.1]\n",
      " [-0.1]\n",
      " [ 0.1]\n",
      " [-0.4]\n",
      " [ 0.4]\n",
      " [-0. ]\n",
      " [-0.3]]\n",
      "\n",
      "Eigenvalue 4:\n",
      "6.43e-03\n",
      "\n",
      "Eigenvector 5:\n",
      "[[-0.2]\n",
      " [ 0.3]\n",
      " [ 0.3]\n",
      " [-0.4]\n",
      " [ 0.2]\n",
      " [ 0.4]\n",
      " [-0.2]\n",
      " [ 0.5]\n",
      " [-0.2]\n",
      " [-0.1]\n",
      " [ 0.4]]\n",
      "\n",
      "Eigenvalue 5:\n",
      "4.18e-03\n",
      "\n",
      "Eigenvector 6:\n",
      "[[ 0. ]\n",
      " [ 0.1]\n",
      " [ 0.3]\n",
      " [ 0.1]\n",
      " [ 0.1]\n",
      " [ 0.3]\n",
      " [-0.1]\n",
      " [-0.6]\n",
      " [ 0.4]\n",
      " [ 0.3]\n",
      " [-0.4]]\n",
      "\n",
      "Eigenvalue 6:\n",
      "1.20e-16\n",
      "\n",
      "Eigenvector 7:\n",
      "[[ 0.5]\n",
      " [-0.2]\n",
      " [-0.5]\n",
      " [-0.2]\n",
      " [ 0.2]\n",
      " [-0.3]\n",
      " [ 0.2]\n",
      " [-0.1]\n",
      " [-0.2]\n",
      " [-0.5]\n",
      " [ 0.2]]\n",
      "\n",
      "Eigenvalue 7:\n",
      "5.61e-17\n",
      "\n",
      "Eigenvector 8:\n",
      "[[ 0.3]\n",
      " [ 0.1]\n",
      " [-0.4]\n",
      " [ 0. ]\n",
      " [-0.4]\n",
      " [-0.2]\n",
      " [-0.2]\n",
      " [ 0.1]\n",
      " [-0.5]\n",
      " [ 0.1]\n",
      " [-0.2]]\n",
      "\n",
      "Eigenvalue 8:\n",
      "-3.84e-17\n",
      "\n",
      "Eigenvector 9:\n",
      "[[ 0.3]\n",
      " [ 0.1]\n",
      " [-0.4]\n",
      " [ 0. ]\n",
      " [-0.4]\n",
      " [-0.2]\n",
      " [-0.2]\n",
      " [ 0.1]\n",
      " [-0.5]\n",
      " [ 0.1]\n",
      " [-0.2]]\n",
      "\n",
      "Eigenvalue 9:\n",
      "-3.84e-17\n",
      "\n",
      "Eigenvector 10:\n",
      "[[-0.3]\n",
      " [-0. ]\n",
      " [ 0.2]\n",
      " [-0.2]\n",
      " [-0.3]\n",
      " [-0.6]\n",
      " [-0.3]\n",
      " [ 0.3]\n",
      " [-0.4]\n",
      " [-0. ]\n",
      " [-0.2]]\n",
      "\n",
      "Eigenvalue 10:\n",
      "-1.64e-17\n",
      "\n",
      "Eigenvector 11:\n",
      "[[-0.6]\n",
      " [ 0. ]\n",
      " [ 0.3]\n",
      " [ 0.4]\n",
      " [ 0.2]\n",
      " [ 0.4]\n",
      " [-0.2]\n",
      " [ 0.1]\n",
      " [ 0.1]\n",
      " [ 0.3]\n",
      " [-0. ]]\n",
      "\n",
      "Eigenvalue 11:\n",
      "1.11e-17\n"
     ]
    }
   ],
   "source": [
    "for i in range(len(eigs_vals)):\n",
    "    eigvec_sc=eigs_vecs[:,i].reshape(11,1)\n",
    "    print('\\nEigenvector {}:\\n{}' .format(i+1, eigvec_sc.real))\n",
    "    print('\\nEigenvalue {:}:\\n{:.2e}' .format(i+1,eigs_vals[i].real))"
   ]
  },
  {
   "attachments": {},
   "cell_type": "markdown",
   "metadata": {},
   "source": [
    "### Order the eigen pairs in descending order with respect to the egenvalues"
   ]
  },
  {
   "cell_type": "code",
   "execution_count": 15,
   "metadata": {},
   "outputs": [
    {
     "name": "stdout",
     "output_type": "stream",
     "text": [
      "Evalues in decresing order:\n",
      "\n",
      "Evalue:\n",
      "\n",
      "0.6318983806659387\n",
      "\n",
      "\n",
      "Associated evector:\n",
      "\n",
      "[ 0.2 -0.4 -0.   0.1 -0.2  0.1 -0.3 -0.2 -0.   0.4  0.7]\n",
      "\n",
      "\n",
      "Evalue:\n",
      "\n",
      "0.07644038712342205\n",
      "\n",
      "\n",
      "Associated evector:\n",
      "\n",
      "[-0.5 -0.5 -0.2 -0.2 -0.1  0.   0.3  0.5 -0.4 -0.1  0.1]\n",
      "\n",
      "\n",
      "Evalue:\n",
      "\n",
      "0.02479746521139609\n",
      "\n",
      "\n",
      "Associated evector:\n",
      "\n",
      "[ 0.1  0.3  0.4  0.2 -0.1 -0.4  0.5 -0.5 -0.1  0.1 -0.1]\n",
      "\n",
      "\n",
      "Evalue:\n",
      "\n",
      "0.006428277646001661\n",
      "\n",
      "\n",
      "Associated evector:\n",
      "\n",
      "[ 0.7 -0.2 -0.1  0.2  0.1 -0.1  0.1 -0.4  0.4 -0.  -0.3]\n",
      "\n",
      "\n",
      "Evalue:\n",
      "\n",
      "0.004179959145044563\n",
      "\n",
      "\n",
      "Associated evector:\n",
      "\n",
      "[-0.2  0.3  0.3 -0.4  0.2  0.4 -0.2  0.5 -0.2 -0.1  0.4]\n",
      "\n",
      "\n",
      "Evalue:\n",
      "\n",
      "1.1985314150763733e-16\n",
      "\n",
      "\n",
      "Associated evector:\n",
      "\n",
      "[ 0.   0.1  0.3  0.1  0.1  0.3 -0.1 -0.6  0.4  0.3 -0.4]\n",
      "\n",
      "\n",
      "Evalue:\n",
      "\n",
      "5.6072528375366e-17\n",
      "\n",
      "\n",
      "Associated evector:\n",
      "\n",
      "[ 0.5 -0.2 -0.5 -0.2  0.2 -0.3  0.2 -0.1 -0.2 -0.5  0.2]\n",
      "\n",
      "\n",
      "Evalue:\n",
      "\n",
      "3.841253282858753e-17\n",
      "\n",
      "\n",
      "Associated evector:\n",
      "\n",
      "[-0.3 -0.1  0.4 -0.   0.4  0.2  0.2 -0.1  0.5 -0.1  0.2]\n",
      "\n",
      "\n",
      "Evalue:\n",
      "\n",
      "3.841253282858753e-17\n",
      "\n",
      "\n",
      "Associated evector:\n",
      "\n",
      "[-0.3 -0.1  0.4 -0.   0.4  0.2  0.2 -0.1  0.5 -0.1  0.2]\n",
      "\n",
      "\n",
      "Evalue:\n",
      "\n",
      "1.642676757584843e-17\n",
      "\n",
      "\n",
      "Associated evector:\n",
      "\n",
      "[ 0.3  0.  -0.2  0.2  0.3  0.6  0.3 -0.3  0.4  0.   0.2]\n",
      "\n",
      "\n",
      "Evalue:\n",
      "\n",
      "1.1141412522761713e-17\n",
      "\n",
      "\n",
      "Associated evector:\n",
      "\n",
      "[-0.6  0.   0.3  0.4  0.2  0.4 -0.2  0.1  0.1  0.3 -0. ]\n",
      "\n",
      "\n"
     ]
    }
   ],
   "source": [
    "eig_pairs = []\n",
    "for i in range(len(eigs_vals)):\n",
    "    if eigs_vals[i]<0:\n",
    "        eig_pairs.append((-eigs_vals[i],-eigs_vecs[:,i]))\n",
    "    else:\n",
    "        eig_pairs.append((eigs_vals[i],eigs_vecs[:,i]))\n",
    "eig_pairs = sorted(eig_pairs, key= lambda k: k[0], reverse = True)\n",
    "\n",
    "print('Evalues in decresing order:\\n')\n",
    "for i in range(len(eig_pairs)):\n",
    "    print('Evalue:\\n')\n",
    "    print(eig_pairs[i][0].real)\n",
    "    print('\\n')\n",
    "    print('Associated evector:\\n')\n",
    "    print(eig_pairs[i][1].real)\n",
    "    print('\\n')"
   ]
  },
  {
   "attachments": {},
   "cell_type": "markdown",
   "metadata": {},
   "source": [
    "Show the explained variance by each respective eigenvector"
   ]
  },
  {
   "cell_type": "code",
   "execution_count": 16,
   "metadata": {},
   "outputs": [
    {
     "name": "stdout",
     "output_type": "stream",
     "text": [
      "Variance explained :\n",
      "\n",
      "eigvalue 1: 84.96%\n",
      "eigvalue 2: 10.28%\n",
      "eigvalue 3: 3.33%\n",
      "eigvalue 4: 0.86%\n",
      "eigvalue 5: 0.56%\n",
      "eigvalue 6: 0.00%\n",
      "eigvalue 7: 0.00%\n",
      "eigvalue 8: 0.00%\n",
      "eigvalue 9: 0.00%\n",
      "eigvalue 10: 0.00%\n",
      "eigvalue 11: 0.00%\n"
     ]
    }
   ],
   "source": [
    "print('Variance explained :\\n')\n",
    "eigv_sum = sum(eigs_vals)\n",
    "for i, j in enumerate(eig_pairs):\n",
    "    print('eigvalue {0:}: {1:.2%}'.format(i+1,(j[0].real/eigv_sum.real)))"
   ]
  },
  {
   "attachments": {},
   "cell_type": "markdown",
   "metadata": {},
   "source": [
    "### Take the first two eigvectors retaining the most variance"
   ]
  },
  {
   "cell_type": "code",
   "execution_count": 17,
   "metadata": {},
   "outputs": [
    {
     "name": "stdout",
     "output_type": "stream",
     "text": [
      "Matrix W:\n",
      " [[ 0.2 -0.5]\n",
      " [-0.4 -0.5]\n",
      " [-0.  -0.2]\n",
      " [ 0.1 -0.2]\n",
      " [-0.2 -0.1]\n",
      " [ 0.1  0. ]\n",
      " [-0.3  0.3]\n",
      " [-0.2  0.5]\n",
      " [-0.  -0.4]\n",
      " [ 0.4 -0.1]\n",
      " [ 0.7  0.1]]\n"
     ]
    }
   ],
   "source": [
    "W = np.hstack((eig_pairs[0][1].reshape(11,1), eig_pairs[1][1].reshape(11,1)))\n",
    "print('Matrix W:\\n', W.real)"
   ]
  },
  {
   "attachments": {},
   "cell_type": "markdown",
   "metadata": {},
   "source": [
    "### Project the data onto the new axes (linear discriminants)"
   ]
  },
  {
   "cell_type": "code",
   "execution_count": 18,
   "metadata": {},
   "outputs": [],
   "source": [
    "X_lda = X_std.dot(W)"
   ]
  },
  {
   "cell_type": "code",
   "execution_count": 19,
   "metadata": {},
   "outputs": [
    {
     "data": {
      "text/plain": [
       "(1599, 11)"
      ]
     },
     "execution_count": 19,
     "metadata": {},
     "output_type": "execute_result"
    }
   ],
   "source": [
    "X_std.shape"
   ]
  },
  {
   "cell_type": "code",
   "execution_count": 20,
   "metadata": {},
   "outputs": [
    {
     "data": {
      "text/plain": [
       "(11, 2)"
      ]
     },
     "execution_count": 20,
     "metadata": {},
     "output_type": "execute_result"
    }
   ],
   "source": [
    "W.shape"
   ]
  },
  {
   "cell_type": "code",
   "execution_count": 21,
   "metadata": {},
   "outputs": [
    {
     "data": {
      "text/plain": [
       "(1599, 2)"
      ]
     },
     "execution_count": 21,
     "metadata": {},
     "output_type": "execute_result"
    }
   ],
   "source": [
    "X_lda.shape"
   ]
  },
  {
   "attachments": {},
   "cell_type": "markdown",
   "metadata": {},
   "source": [
    "### Plot the Dataset after performing LDA"
   ]
  },
  {
   "cell_type": "code",
   "execution_count": 22,
   "metadata": {},
   "outputs": [],
   "source": [
    "def plot_step_lda():\n",
    "    fig=plt.figure()\n",
    "\n",
    "    ax= plt.subplot(111)\n",
    "    for label, color in zip(range(3,9),('blue', 'red', 'green', 'yellow', 'white', 'orange')):\n",
    "\n",
    "        plt.scatter(x=X_lda[:,0].real[y==label],\n",
    "                    y=X_lda[:,1].real[y==label],\n",
    "                    color=color,\n",
    "                    alpha=0.5,\n",
    "                    label=label\n",
    "                    )\n",
    "    plt.xlabel('Linear Discriminant 1')\n",
    "    plt.ylabel('Linear Discriminant 2')   \n",
    "\n",
    "    leg = plt.legend(loc='upper right', fancybox=True)\n",
    "    leg.get_frame().set_alpha(0.5)\n",
    "    plt.title('LDA: Wine data projection onto the first 2 linear discriminants')\n",
    "\n",
    "    ax.spines['top'].set_visible(False)\n",
    "    ax.spines['right'].set_visible(False)\n",
    "    ax.spines['bottom'].set_visible(False)\n",
    "    ax.spines['left'].set_visible(False)\n",
    "\n",
    "    plt.grid()\n",
    "    plt.show()             "
   ]
  },
  {
   "cell_type": "code",
   "execution_count": 23,
   "metadata": {},
   "outputs": [
    {
     "data": {
      "image/png": "[encoded data removed]",
      "text/plain": [
       "<Figure size 640x480 with 1 Axes>"
      ]
     },
     "metadata": {},
     "output_type": "display_data"
    }
   ],
   "source": [
    "plot_step_lda()"
   ]
  },
  {
   "attachments": {},
   "cell_type": "markdown",
   "metadata": {},
   "source": [
    "### add the plot when ising PCA"
   ]
  },
  {
   "cell_type": "code",
   "execution_count": 24,
   "metadata": {},
   "outputs": [],
   "source": [
    "pca = PCA(n_components=2)\n",
    "X_pca = pca.fit_transform(X_std)"
   ]
  },
  {
   "attachments": {},
   "cell_type": "markdown",
   "metadata": {},
   "source": [
    "### plot dataset after performing PCA"
   ]
  },
  {
   "cell_type": "code",
   "execution_count": 25,
   "metadata": {},
   "outputs": [],
   "source": [
    "def plot_step_pca():\n",
    "    fig=plt.figure()\n",
    "\n",
    "    ax=plt.subplot(111)\n",
    "    for label, color in zip(range(3,9),('blue', 'red', 'green', 'yellow', 'white', 'orange')):\n",
    "        plt.scatter(x=X_pca[:,0].real[y==label],\n",
    "                    y=X_pca[:,1].real[y==label],\n",
    "                    color=color,\n",
    "                    alpha=0.5,\n",
    "                    label=label\n",
    "                    )\n",
    "    plt.xlabel('Principal Component 1')\n",
    "    plt.ylabel('Principal Component 2')\n",
    "\n",
    "    leg = plt.legend(loc='upper right', fancybox=True)\n",
    "    leg.get_frame().set_alpha(0.5)\n",
    "    plt.title('PCA: Wine data projection onto the first 2 principal componets')\n",
    "\n",
    "    ax.spines['top'].set_visible(False)\n",
    "    ax.spines['right'].set_visible(False)\n",
    "    ax.spines['bottom'].set_visible(False)\n",
    "    ax.spines['left'].set_visible(False)\n",
    "\n",
    "    plt.grid()\n",
    "    plt.show()                "
   ]
  },
  {
   "cell_type": "code",
   "execution_count": 26,
   "metadata": {},
   "outputs": [
    {
     "data": {
      "image/png": "[encoded data removed]",
      "text/plain": [
       "<Figure size 640x480 with 1 Axes>"
      ]
     },
     "metadata": {},
     "output_type": "display_data"
    }
   ],
   "source": [
    "plot_step_pca()"
   ]
  },
  {
   "attachments": {},
   "cell_type": "markdown",
   "metadata": {},
   "source": [
    "### Setting up the classifier to compare PCA and LDA"
   ]
  },
  {
   "cell_type": "code",
   "execution_count": 27,
   "metadata": {},
   "outputs": [],
   "source": [
    "X_train, X_test, y_train, y_test = train_test_split(X,y, test_size=0.2, random_state=0)"
   ]
  },
  {
   "cell_type": "code",
   "execution_count": 28,
   "metadata": {},
   "outputs": [],
   "source": [
    "X_train = scaler.fit_transform(X_train)\n",
    "X_test = scaler.transform(X_test)"
   ]
  },
  {
   "attachments": {},
   "cell_type": "markdown",
   "metadata": {},
   "source": [
    "### Perform LDA with 2 linear discriminants and store the respective results from the training and testing parts "
   ]
  },
  {
   "cell_type": "code",
   "execution_count": 29,
   "metadata": {},
   "outputs": [],
   "source": [
    "lda = LDA(n_components=2)\n",
    "X_train_lda = lda.fit_transform(X_train, y_train)\n",
    "X_test_lda = lda.transform(X_test)"
   ]
  },
  {
   "attachments": {},
   "cell_type": "markdown",
   "metadata": {},
   "source": [
    "### Perform PCA with 2 principal components and store the respective results from the training and testing parts"
   ]
  },
  {
   "cell_type": "code",
   "execution_count": 30,
   "metadata": {},
   "outputs": [],
   "source": [
    "X_train_pca = pca.fit_transform(X_train)\n",
    "X_test_pca = pca.transform(X_test)"
   ]
  },
  {
   "attachments": {},
   "cell_type": "markdown",
   "metadata": {},
   "source": [
    "### import the classifier"
   ]
  },
  {
   "cell_type": "code",
   "execution_count": 31,
   "metadata": {},
   "outputs": [],
   "source": [
    "svclassifier = SVC(kernel='linear')"
   ]
  },
  {
   "attachments": {},
   "cell_type": "markdown",
   "metadata": {},
   "source": [
    "### Run the classifier through the LDA train and test sets and return the necessary time for training and testing"
   ]
  },
  {
   "cell_type": "code",
   "execution_count": 32,
   "metadata": {},
   "outputs": [],
   "source": [
    "def train_test_lda():\n",
    "    s=[]\n",
    "    start_train_lda=time.time()\n",
    "    svclassifier.fit(X_train_lda,y_train)\n",
    "    finish_train_lda = time.time()\n",
    "\n",
    "    start_test_lda = time.time()\n",
    "    y_pred_lda = svclassifier.predict(X_test_lda)\n",
    "    finish_test_lda = time.time()\n",
    "\n",
    "    s.append(finish_train_lda-start_train_lda)\n",
    "    s.append(finish_test_lda-start_test_lda)\n",
    "    s.append(y_pred_lda)\n",
    "\n",
    "    return s"
   ]
  },
  {
   "attachments": {},
   "cell_type": "markdown",
   "metadata": {},
   "source": [
    "### Run the classifier through the PCA train and test sets and return the necessary time for training and testing"
   ]
  },
  {
   "cell_type": "code",
   "execution_count": 33,
   "metadata": {},
   "outputs": [],
   "source": [
    "def train_test_pca():\n",
    "    s=[]\n",
    "    start_train_pca=time.time()\n",
    "    svclassifier.fit(X_train_pca,y_train)\n",
    "    finish_train_pca = time.time()\n",
    "\n",
    "    start_test_pca = time.time()\n",
    "    y_pred_pca = svclassifier.predict(X_test_pca)\n",
    "    finish_test_pca = time.time()\n",
    "\n",
    "    s.append(finish_train_pca-start_train_pca)\n",
    "    s.append(finish_test_pca-start_test_pca)\n",
    "    s.append(y_pred_pca)\n",
    "\n",
    "    return s"
   ]
  },
  {
   "attachments": {},
   "cell_type": "markdown",
   "metadata": {},
   "source": [
    "### Analysis of the training and testing times for the classifier and its accurancy"
   ]
  },
  {
   "cell_type": "code",
   "execution_count": 34,
   "metadata": {},
   "outputs": [
    {
     "name": "stdout",
     "output_type": "stream",
     "text": [
      "Average time for training out of 10 runs for LDA:0.03613169193267822\n",
      "average time for testing out of 10 runs for LDA:0.008026027679443359\n"
     ]
    }
   ],
   "source": [
    "train_lda=0\n",
    "test_lda=0\n",
    "for i in range(10):\n",
    "    c=train_test_lda()\n",
    "    train_lda+=c[0]\n",
    "    test_lda+=c[1]\n",
    "\n",
    "print('Average time for training out of 10 runs for LDA:{}'.format(train_lda/10))\n",
    "print('average time for testing out of 10 runs for LDA:{}'.format(test_lda/10))    "
   ]
  },
  {
   "cell_type": "code",
   "execution_count": 36,
   "metadata": {},
   "outputs": [
    {
     "name": "stdout",
     "output_type": "stream",
     "text": [
      "Average time for training out of 10 runs for PCA:0.0419959306716919\n",
      "Averange time for testing out of 10 rund for PCA:0.008248114585876464\n"
     ]
    }
   ],
   "source": [
    "train_pca=0\n",
    "test_pca=0\n",
    "for i in range(10):\n",
    "    m=train_test_pca()\n",
    "    train_pca+=m[0]\n",
    "    test_pca+=m[1]\n",
    "\n",
    "print('Average time for training out of 10 runs for PCA:{}'.format(train_pca/10))\n",
    "print('Averange time for testing out of 10 rund for PCA:{}'.format(test_pca/10))    "
   ]
  },
  {
   "cell_type": "code",
   "execution_count": 37,
   "metadata": {},
   "outputs": [],
   "source": [
    "a = train_test_lda()\n",
    "b = train_test_pca()"
   ]
  },
  {
   "attachments": {},
   "cell_type": "markdown",
   "metadata": {},
   "source": [
    "### Print out the confusion matrix for the LDA test set"
   ]
  },
  {
   "cell_type": "code",
   "execution_count": 38,
   "metadata": {},
   "outputs": [
    {
     "name": "stdout",
     "output_type": "stream",
     "text": [
      "Confusion matrix for LDA?\n",
      "\n",
      "[[  0   0   2   0   0   0]\n",
      " [  0   0   6   5   0   0]\n",
      " [  0   0 107  28   0   0]\n",
      " [  0   0  45  97   0   0]\n",
      " [  0   0   1  26   0   0]\n",
      " [  0   0   0   3   0   0]]\n",
      "\n",
      "\n",
      "LDA Accuracy: 0.6375\n"
     ]
    }
   ],
   "source": [
    "cm_lda = confusion_matrix(y_test, a[2])\n",
    "print('Confusion matrix for LDA:\\n')\n",
    "print(cm_lda)\n",
    "print('\\n')\n",
    "print('LDA Accuracy:'+' '+ str(accuracy_score(y_test, a[2])))"
   ]
  },
  {
   "cell_type": "code",
   "execution_count": 39,
   "metadata": {},
   "outputs": [
    {
     "name": "stdout",
     "output_type": "stream",
     "text": [
      "Confusion matrix for PCA:\n",
      "\n",
      "[[ 0  0  0  2  0  0]\n",
      " [ 0  0  4  7  0  0]\n",
      " [ 0  0 87 48  0  0]\n",
      " [ 0  0 54 88  0  0]\n",
      " [ 0  0  4 23  0  0]\n",
      " [ 0  0  0  3  0  0]]\n",
      "\n",
      "\n",
      "PCA Accuracy: 0.546875\n"
     ]
    }
   ],
   "source": [
    "cm_pca = confusion_matrix(y_test, b[2])\n",
    "print('Confusion matrix for PCA:\\n')\n",
    "print(cm_pca)\n",
    "print('\\n')\n",
    "print('PCA Accuracy:'+' '+ str(accuracy_score(y_test, b[2])))"
   ]
  }
 ],
 "metadata": {
  "kernelspec": {
   "display_name": "Python 3",
   "language": "python",
   "name": "python3"
  },
  "language_info": {
   "codemirror_mode": {
    "name": "ipython",
    "version": 3
   },
   "file_extension": ".py",
   "mimetype": "text/x-python",
   "name": "python",
   "nbconvert_exporter": "python",
   "pygments_lexer": "ipython3",
   "version": "3.9.0 (v3.9.0:9cf6752276, Oct  5 2020, 11:29:23) \n[Clang 6.0 (clang-600.0.57)]"
  },
  "orig_nbformat": 4,
  "vscode": {
   "interpreter": {
    "hash": "aee8b7b246df8f9039afb4144a1f6fd8d2ca17a180786b69acc140d282b71a49"
   }
  }
 },
 "nbformat": 4,
 "nbformat_minor": 2
}
